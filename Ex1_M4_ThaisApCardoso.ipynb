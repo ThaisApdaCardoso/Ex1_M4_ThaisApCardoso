{
  "cells": [
    {
      "cell_type": "markdown",
      "metadata": {
        "id": "KbF5znUqchZY"
      },
      "source": [
        "# Tarefa 01\n",
        "\n",
        "- Leia os enunciados com atenção\n",
        "- Saiba que pode haver mais de uma resposta correta\n",
        "- Insira novas células de código sempre que achar necessário\n",
        "- Em caso de dúvidas, procure os tutores\n",
        "- Divirta-se :)\n",
        "\n",
        "#### 1)  crie uma série do pandas a partir de uma lista com os dados abaixo:\n",
        "\n",
        "Em um estudo sobre alteração na tempreatura global, A NASA disponibiliza dados de diferenças de de temperatura média da superfície terrestre relativos às médias de temperatura entre 1951 e 1980. Os dados originais podem ser vistos no site da NASA/GISS, e estão dispostos a cada década na tabela abaixo.\n",
        "\n",
        "|ano|anomalia termica|\n",
        "|:-:|:----:|\n",
        "| 1900 | -0.08 |\n",
        "| 1920 | -0.27 |\n",
        "| 1940 | 0.12 |\n",
        "| 1960 | -0.03 |\n",
        "| 1980 | 0.26 |\n",
        "| 2000 | 0.40 |\n",
        "| 2020 | 1.02 |\n",
        "\n",
        "Crie uma séries do Pandas a partir de uma lista com esses dados."
      ]
    },
    {
      "cell_type": "code",
      "execution_count": 8,
      "metadata": {
        "id": "bFkRXuRcchZh"
      },
      "outputs": [],
      "source": [
        "import pandas as pd\n",
        "import numpy as np\n",
        "\n",
        "# Seu código aqui"
      ]
    },
    {
      "cell_type": "code",
      "source": [
        "anomalias_termicas = [-0.08, -0.27, 0.12, -0.03, 0.26, 0.40, 1.02]\n",
        "\n",
        "serie_anomalias = pd.Series(anomalias_termicas)\n",
        "\n",
        "print(serie_anomalias)"
      ],
      "metadata": {
        "colab": {
          "base_uri": "https://localhost:8080/"
        },
        "id": "JrTEieAtq0y4",
        "outputId": "94cee3e0-6110-41bf-ab91-38216b7c0304"
      },
      "execution_count": 17,
      "outputs": [
        {
          "output_type": "stream",
          "name": "stdout",
          "text": [
            "0   -0.08\n",
            "1   -0.27\n",
            "2    0.12\n",
            "3   -0.03\n",
            "4    0.26\n",
            "5    0.40\n",
            "6    1.02\n",
            "dtype: float64\n"
          ]
        }
      ]
    },
    {
      "cell_type": "markdown",
      "metadata": {
        "id": "aUEX0O8schZk"
      },
      "source": [
        "#### 2) Coloque os anos nos índices conforme a tabela."
      ]
    },
    {
      "cell_type": "code",
      "execution_count": 13,
      "metadata": {
        "colab": {
          "base_uri": "https://localhost:8080/"
        },
        "id": "RfILkkFychZl",
        "outputId": "f9ec7972-0314-45f8-d8db-c53d5220c107"
      },
      "outputs": [
        {
          "output_type": "stream",
          "name": "stdout",
          "text": [
            "1900   -0.08\n",
            "1920   -0.27\n",
            "1940    0.12\n",
            "1960   -0.03\n",
            "1980    0.26\n",
            "2000    0.40\n",
            "2020    1.02\n",
            "Name: Anomalia Térmica, dtype: float64\n"
          ]
        }
      ],
      "source": [
        "# seu código aqui\n",
        "\n",
        "anos = [1900, 1920, 1940, 1960, 1980, 2000, 2020]\n",
        "anomalias_termicas = [-0.08, -0.27, 0.12, -0.03, 0.26, 0.40, 1.02]\n",
        "\n",
        "serie_anomalias = pd.Series(data=anomalias_termicas, name=\"Anomalia Térmica\")\n",
        "\n",
        "serie_anomalias.index = anos\n",
        "\n",
        "print(serie_anomalias)"
      ]
    },
    {
      "cell_type": "markdown",
      "metadata": {
        "id": "8k2AIypPchZm"
      },
      "source": [
        "#### 3) A partir do dicionário abaixo, crie uma séries do Pandas:"
      ]
    },
    {
      "cell_type": "code",
      "execution_count": 14,
      "metadata": {
        "colab": {
          "base_uri": "https://localhost:8080/"
        },
        "id": "pixvqOsJchZm",
        "outputId": "a1d7a760-b83b-4182-91d1-7ff34abdede1"
      },
      "outputs": [
        {
          "output_type": "stream",
          "name": "stdout",
          "text": [
            "1900   -0.08\n",
            "1920   -0.27\n",
            "1940    0.12\n",
            "1960   -0.03\n",
            "1980    0.26\n",
            "2000    0.40\n",
            "2020    1.02\n",
            "Name: Anomalia Térmica, dtype: float64\n"
          ]
        }
      ],
      "source": [
        "dic_temperaturas = {1900: -.08, 1920: -.27, 1940: .12, 1960: -.03, 1980: .26, 2000: .40, 2020: 1.02}\n",
        "\n",
        "# seu código aqui\n",
        "\n",
        "serie_anomalias = pd.Series(dic_temperaturas, name=\"Anomalia Térmica\")\n",
        "\n",
        "print(serie_anomalias)"
      ]
    },
    {
      "cell_type": "markdown",
      "metadata": {
        "id": "DsUomxhSchZm"
      },
      "source": [
        "#### 4) Transforme o ndarray abaixo em um dataframe.\n",
        "O numpy é capaz de gerar arrays n-dimensionais com números pseudo-aleatórios de acordo com uma variedade de distribuições, como no exemplo abaixo. Transforme esse nd-array em um DataFrame."
      ]
    },
    {
      "cell_type": "code",
      "execution_count": 20,
      "metadata": {
        "colab": {
          "base_uri": "https://localhost:8080/"
        },
        "id": "6tIozOEdchZn",
        "outputId": "383db351-8b98-4294-e2d4-b0b14f0eecfa"
      },
      "outputs": [
        {
          "output_type": "stream",
          "name": "stdout",
          "text": [
            "             0           1           2\n",
            "0   104.521530  117.105266  111.541255\n",
            "1    84.713668   91.339592   87.364555\n",
            "2    87.822902   99.070631   94.283976\n",
            "3   110.269832   95.022011  101.138353\n",
            "4    98.905689   96.919875   82.622695\n",
            "5    99.508390   83.431321  100.168731\n",
            "6    89.051810  107.377500   89.371378\n",
            "7    92.262258  109.000556   97.018461\n",
            "8   108.792998  104.365445  108.977615\n",
            "9    99.514479   87.978278  104.247210\n",
            "10  108.208992  112.990140   93.460312\n",
            "11  114.482455   90.942886  102.088235\n",
            "12  108.560013   94.333034   93.963483\n",
            "13  110.763387   92.027530   86.703087\n",
            "14  104.906599   96.909098  102.797332\n",
            "15   98.808849   91.235214   96.523815\n",
            "16   85.376472   92.032313   89.612766\n",
            "17  117.033066  106.516716  121.783672\n",
            "18   93.974002  111.414471  117.529339\n",
            "19   88.722419  102.525413  109.755986\n"
          ]
        }
      ],
      "source": [
        "arr = np.random.normal(100, 10, (20,3))\n",
        "\n",
        "# seu código aqui\n",
        "\n",
        "df = pd.DataFrame(arr)\n",
        "\n",
        "print(df)"
      ]
    },
    {
      "cell_type": "markdown",
      "metadata": {
        "id": "Bx40h4zAchZn"
      },
      "source": [
        "#### 5) Nomeie os índices das linhas com inteiros de 1 a 20, e as colunas com os nomes \"x1\", \"x2\", e \"x3\" respectivamente."
      ]
    },
    {
      "cell_type": "code",
      "execution_count": 21,
      "metadata": {
        "colab": {
          "base_uri": "https://localhost:8080/"
        },
        "id": "TYwmj2q5chZn",
        "outputId": "bba57526-e923-475f-c032-89d033f99b6f"
      },
      "outputs": [
        {
          "output_type": "stream",
          "name": "stdout",
          "text": [
            "            x1          x2          x3\n",
            "1   104.521530  117.105266  111.541255\n",
            "2    84.713668   91.339592   87.364555\n",
            "3    87.822902   99.070631   94.283976\n",
            "4   110.269832   95.022011  101.138353\n",
            "5    98.905689   96.919875   82.622695\n",
            "6    99.508390   83.431321  100.168731\n",
            "7    89.051810  107.377500   89.371378\n",
            "8    92.262258  109.000556   97.018461\n",
            "9   108.792998  104.365445  108.977615\n",
            "10   99.514479   87.978278  104.247210\n",
            "11  108.208992  112.990140   93.460312\n",
            "12  114.482455   90.942886  102.088235\n",
            "13  108.560013   94.333034   93.963483\n",
            "14  110.763387   92.027530   86.703087\n",
            "15  104.906599   96.909098  102.797332\n",
            "16   98.808849   91.235214   96.523815\n",
            "17   85.376472   92.032313   89.612766\n",
            "18  117.033066  106.516716  121.783672\n",
            "19   93.974002  111.414471  117.529339\n",
            "20   88.722419  102.525413  109.755986\n"
          ]
        }
      ],
      "source": [
        "#seu código aqui\n",
        "\n",
        "df = pd.DataFrame(arr, index=range(1, 21), columns=['x1', 'x2', 'x3'])\n",
        "\n",
        "print(df)"
      ]
    },
    {
      "cell_type": "markdown",
      "metadata": {
        "id": "_qks0wEjchZo"
      },
      "source": [
        "#### 6) No DataFrame do exercício 5, crie uma nova coluna como sendo a média das três colunas, e dê a ela o nome de \"media\" (não recomendo colocar acentos em nomes de variáveis)."
      ]
    },
    {
      "cell_type": "code",
      "execution_count": 22,
      "metadata": {
        "colab": {
          "base_uri": "https://localhost:8080/"
        },
        "id": "p6CXS3HHchZo",
        "outputId": "6d7271ce-3cb7-4c2b-f8fb-df59c6a38428"
      },
      "outputs": [
        {
          "output_type": "stream",
          "name": "stdout",
          "text": [
            "            x1          x2          x3       media\n",
            "1   104.521530  117.105266  111.541255  111.056017\n",
            "2    84.713668   91.339592   87.364555   87.805938\n",
            "3    87.822902   99.070631   94.283976   93.725837\n",
            "4   110.269832   95.022011  101.138353  102.143398\n",
            "5    98.905689   96.919875   82.622695   92.816086\n",
            "6    99.508390   83.431321  100.168731   94.369480\n",
            "7    89.051810  107.377500   89.371378   95.266896\n",
            "8    92.262258  109.000556   97.018461   99.427091\n",
            "9   108.792998  104.365445  108.977615  107.378686\n",
            "10   99.514479   87.978278  104.247210   97.246655\n",
            "11  108.208992  112.990140   93.460312  104.886482\n",
            "12  114.482455   90.942886  102.088235  102.504525\n",
            "13  108.560013   94.333034   93.963483   98.952177\n",
            "14  110.763387   92.027530   86.703087   96.498001\n",
            "15  104.906599   96.909098  102.797332  101.537676\n",
            "16   98.808849   91.235214   96.523815   95.522626\n",
            "17   85.376472   92.032313   89.612766   89.007184\n",
            "18  117.033066  106.516716  121.783672  115.111151\n",
            "19   93.974002  111.414471  117.529339  107.639271\n",
            "20   88.722419  102.525413  109.755986  100.334606\n"
          ]
        }
      ],
      "source": [
        "# seu código aqui\n",
        "\n",
        "df['media'] = df.mean(axis=1)\n",
        "\n",
        "print(df)"
      ]
    },
    {
      "cell_type": "markdown",
      "metadata": {
        "id": "qET_0ah0chZo"
      },
      "source": [
        "#### 7) No DataFrame do exercício 6, crie uma nova coluna chamada \"log_med\", contendo o logaritmo natural da média calculada no exercício 6 <br>"
      ]
    },
    {
      "cell_type": "code",
      "execution_count": 23,
      "metadata": {
        "colab": {
          "base_uri": "https://localhost:8080/"
        },
        "id": "TquvgZNdchZo",
        "outputId": "168f8ccf-7f24-4e50-8eda-691226d56491"
      },
      "outputs": [
        {
          "output_type": "stream",
          "name": "stdout",
          "text": [
            "            x1          x2          x3       media   log_med\n",
            "1   104.521530  117.105266  111.541255  111.056017  4.710035\n",
            "2    84.713668   91.339592   87.364555   87.805938  4.475129\n",
            "3    87.822902   99.070631   94.283976   93.725837  4.540374\n",
            "4   110.269832   95.022011  101.138353  102.143398  4.626378\n",
            "5    98.905689   96.919875   82.622695   92.816086  4.530620\n",
            "6    99.508390   83.431321  100.168731   94.369480  4.547218\n",
            "7    89.051810  107.377500   89.371378   95.266896  4.556682\n",
            "8    92.262258  109.000556   97.018461   99.427091  4.599425\n",
            "9   108.792998  104.365445  108.977615  107.378686  4.676362\n",
            "10   99.514479   87.978278  104.247210   97.246655  4.577251\n",
            "11  108.208992  112.990140   93.460312  104.886482  4.652879\n",
            "12  114.482455   90.942886  102.088235  102.504525  4.629907\n",
            "13  108.560013   94.333034   93.963483   98.952177  4.594637\n",
            "14  110.763387   92.027530   86.703087   96.498001  4.569522\n",
            "15  104.906599   96.909098  102.797332  101.537676  4.620430\n",
            "16   98.808849   91.235214   96.523815   95.522626  4.559363\n",
            "17   85.376472   92.032313   89.612766   89.007184  4.488717\n",
            "18  117.033066  106.516716  121.783672  115.111151  4.745898\n",
            "19   93.974002  111.414471  117.529339  107.639271  4.678786\n",
            "20   88.722419  102.525413  109.755986  100.334606  4.608511\n"
          ]
        }
      ],
      "source": [
        "# seu código aqui\n",
        "\n",
        "df['log_med'] = np.log(df['media'])\n",
        "\n",
        "print(df)"
      ]
    }
  ],
  "metadata": {
    "kernelspec": {
      "display_name": "Python 3",
      "language": "python",
      "name": "python3"
    },
    "language_info": {
      "codemirror_mode": {
        "name": "ipython",
        "version": 3
      },
      "file_extension": ".py",
      "mimetype": "text/x-python",
      "name": "python",
      "nbconvert_exporter": "python",
      "pygments_lexer": "ipython3",
      "version": "3.8.5"
    },
    "colab": {
      "provenance": []
    }
  },
  "nbformat": 4,
  "nbformat_minor": 0
}